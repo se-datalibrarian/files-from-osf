{
 "cells": [
  {
   "cell_type": "markdown",
   "metadata": {},
   "source": [
    "# Fetch SEDLS presenter materials from the OSF repository\n",
    "\n",
    "These scripts were originally created to streamline the process of accessing URL links to presentation resources stored in OSF for incorporation into the Program page on the SEDLS website (e.g., [the links to materials on the 2021 SEDLS Program page](https://se-datalibrarian.github.io/2021/))"
   ]
  },
  {
   "cell_type": "code",
   "execution_count": 123,
   "metadata": {},
   "outputs": [],
   "source": [
    "import requests\n",
    "from typing import Dict, List"
   ]
  },
  {
   "cell_type": "code",
   "execution_count": 9,
   "metadata": {},
   "outputs": [
    {
     "data": {
      "text/plain": [
       "['https://api.osf.io/v2/nodes/pyscb/files/osfstorage/']"
      ]
     },
     "execution_count": 9,
     "metadata": {},
     "output_type": "execute_result"
    }
   ],
   "source": [
    "# Fetch the information providing information on file providers that are\n",
    "# hosting materials in the OSF repo\n",
    "sedls_file_providers_fetch = requests.get(sedls_21_files_path)\n",
    "file_providers = sedls_file_providers_fetch.json()\n",
    "\n",
    "# List of providers hosting files in OSF repo\n",
    "file_provider_paths = [\n",
    "    sedls_21_files_path + provider['attributes']['name'] + '/' for provider in file_providers['data']\n",
    "]\n",
    "\n",
    "file_provider_paths"
   ]
  },
  {
   "cell_type": "code",
   "execution_count": 160,
   "metadata": {},
   "outputs": [],
   "source": [
    "def fetch_with_pagination(path: str) -> List[Dict]:\n",
    "    '''\n",
    "    Fetch the specified OSF API resource based on the provided \"path\" and return a list of Dictionary objects containing responses for each page of data from a collection using pagination.\n",
    "\n",
    "    Parameters\n",
    "    ----------\n",
    "    path: str\n",
    "        The URL path pointing to the OSF API collection of interest\n",
    "\n",
    "    Returns\n",
    "    -------\n",
    "    List[Dict]\n",
    "        A list of Dictionaries with each item containing the data from one page of data from a collection\n",
    "    '''\n",
    "\n",
    "    page_json_list: List[Dict] = [requests.get(path).json()]\n",
    "    if page_json_list[0]['links']['next'] is not None:\n",
    "        page_json_list += fetch_with_pagination(page_json_list[0]['links']['next'])\n",
    "    return page_json_list\n",
    "    "
   ]
  },
  {
   "cell_type": "code",
   "execution_count": 158,
   "metadata": {},
   "outputs": [],
   "source": [
    "def fetch_provider_paths(node_id: str) -> List[str]:\n",
    "    '''\n",
    "    Gets a ist of the URL paths for file storage providers in an OSF project. Use this list to fetch information on files stored in each provider.\n",
    "\n",
    "    Parameters\n",
    "    ----------\n",
    "    node_id: str\n",
    "        The node id of the project for which to get the URL paths\n",
    "\n",
    "    Returns\n",
    "    -------\n",
    "    List[str]\n",
    "        A list of strings of URL paths for file storage providers\n",
    "    '''\n",
    "\n",
    "    node_path = f'https://api.osf.io/v2/nodes/{node_id}/files/'\n",
    "    providers_data = fetch_with_pagination(node_path)\n",
    "    return [\n",
    "        path['relationships']['files']['links']['related']['href']\n",
    "        for provider in providers_data for path in provider['data']\n",
    "    ]"
   ]
  },
  {
   "cell_type": "code",
   "execution_count": 151,
   "metadata": {},
   "outputs": [],
   "source": [
    "def fetch_OSF_files(list_of_file_provider_paths: List[str]) -> List[Dict]:\n",
    "    '''Gets a list of all files in an OSF project\n",
    "    \n",
    "    Parameters\n",
    "    ----------\n",
    "    list_of_file_provider_paths: List[str]\n",
    "        A list of URL paths pointing to the storage providers in the OSF repository\n",
    "\n",
    "    Returns\n",
    "    -------\n",
    "    List[Dict]\n",
    "        A list of dictionaries containing information about each file in the OSF repository\n",
    "    '''\n",
    "\n",
    "    # Fetch the contents within each provider's storage (files and folders)\n",
    "    provider_contents_pages: List[str] = [\n",
    "        fetch_with_pagination(path) for path in list_of_file_provider_paths\n",
    "    ]\n",
    "\n",
    "    # Loop through the contents of each provider and identify if the content\n",
    "    # type is a file or folder. If it is a file, append it to the files list.\n",
    "    # If it is a folder, recursively call the \"fetch_OSF_files\" function until\n",
    "    # files are returned and concatenate the resulting list to the files list.\n",
    "    files: List[Dict] = []\n",
    "    for pages in provider_contents_pages:\n",
    "        for data in pages:\n",
    "            for attributes in data['data']:\n",
    "                if attributes['attributes']['kind'] == 'folder':\n",
    "                    folder_files = fetch_OSF_files(\n",
    "                        [\n",
    "                            attributes['relationships']['files']['links']['related']['href']\n",
    "                        ]\n",
    "                    )\n",
    "                    files += folder_files\n",
    "                elif attributes['attributes']['kind'] == 'file':\n",
    "                    files.append(\n",
    "                        {\n",
    "                            'id': attributes['attributes']['guid'],\n",
    "                            'name': attributes['attributes']['name'],\n",
    "                            'path': attributes['attributes']['materialized_path']\n",
    "                        }\n",
    "                    )\n",
    "    return files"
   ]
  },
  {
   "cell_type": "code",
   "execution_count": 162,
   "metadata": {},
   "outputs": [],
   "source": [
    "# ID obtained from root page of project: https://osf.io/pyscb/\n",
    "sedls21_osf_id: str = 'pyscb'\n",
    "# Fetch the paths for the storage providers in the SEDLS 2021 OSF project\n",
    "sedls21_providers_paths = fetch_provider_paths(sedls21_osf_id)\n",
    "# Fetch the files in the SEDLS 2021 OSF project\n",
    "sedls21_files = fetch_OSF_files(sedls21_providers_paths)"
   ]
  },
  {
   "cell_type": "code",
   "execution_count": 163,
   "metadata": {},
   "outputs": [
    {
     "data": {
      "text/plain": [
       "[{'id': 'gjwy8',\n",
       "  'name': '7_Bauder_Data-literacy-as-critical-information-literacy.pdf',\n",
       "  'path': '/Poster presentations/7_Bauder_Data-literacy-as-critical-information-literacy.pdf'},\n",
       " {'id': 'pwv2d',\n",
       "  'name': '1_Smith-and-Davis_Escape-data-horror_Creating-innovative-ways-to-teach-RDM.pdf',\n",
       "  'path': '/Poster presentations/1_Smith-and-Davis_Escape-data-horror_Creating-innovative-ways-to-teach-RDM.pdf'},\n",
       " {'id': 'rtz7y',\n",
       "  'name': '5_Castro-et-al_dLOC-as-data.pdf',\n",
       "  'path': '/Poster presentations/5_Castro-et-al_dLOC-as-data.pdf'},\n",
       " {'id': 'uc5j2',\n",
       "  'name': '2_Mckenna-Foster_ETData.pdf',\n",
       "  'path': '/Poster presentations/2_Mckenna-Foster_ETData.pdf'},\n",
       " {'id': 'vgfu8',\n",
       "  'name': '4_Klein-Carlton_iNaturalist-for-data-literacy.pdf',\n",
       "  'path': '/Poster presentations/4_Klein-Carlton_iNaturalist-for-data-literacy.pdf'},\n",
       " {'id': 'rkn2w',\n",
       "  'name': '6-Holsapple_Data-sharing-for-Masters-theses.pdf',\n",
       "  'path': '/Poster presentations/6-Holsapple_Data-sharing-for-Masters-theses.pdf'},\n",
       " {'id': 'bwqfm',\n",
       "  'name': '9-Kechner_Propel-UVA-library-working-with-career-services.pdf',\n",
       "  'path': '/Poster presentations/9-Kechner_Propel-UVA-library-working-with-career-services.pdf'},\n",
       " {'id': 'z49xu',\n",
       "  'name': '8_Dolan_Visualizing_Global_Tweet_Activity_for_NIH_Covid-19_Preprint.pdf',\n",
       "  'path': '/Poster presentations/8_Dolan_Visualizing_Global_Tweet_Activity_for_NIH_Covid-19_Preprint.pdf'},\n",
       " {'id': '9wjkn',\n",
       "  'name': '3_Jones-Parker_Analyzing-UVA-Health-Publications.pdf',\n",
       "  'path': '/Poster presentations/3_Jones-Parker_Analyzing-UVA-Health-Publications.pdf'},\n",
       " {'id': 'n5723',\n",
       "  'name': 'Rockwell - Public Interest Data Literacy (PIDLit)_ Empowering First-Year Students with Data Skills.pdf',\n",
       "  'path': '/Presentation slides/Day 2 20211014/Rockwell - Public Interest Data Literacy (PIDLit)_ Empowering First-Year Students with Data Skills.pdf'},\n",
       " {'id': 'qphxk',\n",
       "  'name': 'Payne and Koos - The Universe(ity) Does Revolve around Us.pdf',\n",
       "  'path': '/Presentation slides/Day 2 20211014/Payne and Koos - The Universe(ity) Does Revolve around Us.pdf'},\n",
       " {'id': 'rphqw',\n",
       "  'name': 'Lopez et al - Staying Up-to-Data Collaborating to Foster Data and Visualization Skills in Undergraduate .pptx',\n",
       "  'path': '/Presentation slides/Day 2 20211014/Lopez et al - Staying Up-to-Data Collaborating to Foster Data and Visualization Skills in Undergraduate .pptx'},\n",
       " {'id': 'juctf',\n",
       "  'name': 'Hayslett and Bardeen - Data support for undergraduate research_ Results of an Ithaka study at UNC-Chapel Hill.pptx',\n",
       "  'path': '/Presentation slides/Day 2 20211014/Hayslett and Bardeen - Data support for undergraduate research_ Results of an Ithaka study at UNC-Chapel Hill.pptx'},\n",
       " {'id': 'pn4kr',\n",
       "  'name': 'Dosch and Ihli - What does the reference interview accomplish and how does that translate to data_ A model for the ‘data interview’ in libraries.pptx',\n",
       "  'path': '/Presentation slides/Day 2 20211014/Dosch and Ihli - What does the reference interview accomplish and how does that translate to data_ A model for the ‘data interview’ in libraries.pptx'},\n",
       " {'id': '8judg',\n",
       "  'name': 'Alshrief et al - Data Consultations_ This Is How We Do It.pptx',\n",
       "  'path': '/Presentation slides/Day 2 20211014/Alshrief et al - Data Consultations_ This Is How We Do It.pptx'},\n",
       " {'id': 's4wxa',\n",
       "  'name': 'Dosch and Ihli - What does the reference interview accomplish and how does that translate to data_ A model for the ‘data interview’ in libraries.pdf',\n",
       "  'path': '/Presentation slides/Day 2 20211014/Dosch and Ihli - What does the reference interview accomplish and how does that translate to data_ A model for the ‘data interview’ in libraries.pdf'},\n",
       " {'id': 'e9t2r',\n",
       "  'name': 'Pritt and Wham - Examining Research Data Management Awareness _ Practices of STEM Research Faculty and Graduate Students across Penn State University Campuses.pdf',\n",
       "  'path': '/Presentation slides/Day 1 20211013/Pritt and Wham - Examining Research Data Management Awareness _ Practices of STEM Research Faculty and Graduate Students across Penn State University Campuses.pdf'},\n",
       " {'id': '4g36c',\n",
       "  'name': 'Krzton - Introducing Scientific Data Pipelines to Novice Students.pptx',\n",
       "  'path': '/Presentation slides/Day 1 20211013/Krzton - Introducing Scientific Data Pipelines to Novice Students.pptx'},\n",
       " {'id': 'f3rz5',\n",
       "  'name': 'Swygart-Hobaugh and Walker - It’s Big, It’s Messy, and It’s Complicated_ An Assessment of “Big Data” Research Support Needs.pptx',\n",
       "  'path': '/Presentation slides/Day 1 20211013/Swygart-Hobaugh and Walker - It’s Big, It’s Messy, and It’s Complicated_ An Assessment of “Big Data” Research Support Needs.pptx'},\n",
       " {'id': 'jrhdp',\n",
       "  'name': 'Krys and Xin - Data Analytics and Visualization Services in the Libraries.pptx',\n",
       "  'path': '/Presentation slides/Day 1 20211013/Krys and Xin - Data Analytics and Visualization Services in the Libraries.pptx'},\n",
       " {'id': 'p98ag',\n",
       "  'name': 'Huck et al - Practical Reproducibility Instruction.pdf',\n",
       "  'path': '/Presentation slides/Day 1 20211013/Huck et al - Practical Reproducibility Instruction.pdf'},\n",
       " {'id': 'js8wn',\n",
       "  'name': 'Sye - Accidental DH Librarian.pptx',\n",
       "  'path': '/Presentation slides/Day 3 20211015/Sye - Accidental DH Librarian.pptx'},\n",
       " {'id': '7jz2b',\n",
       "  'name': 'Karcher et al - Rating Data Management Plans Lessons learned from the Qualitative DMP Competition.pptx',\n",
       "  'path': '/Presentation slides/Day 3 20211015/Karcher et al - Rating Data Management Plans Lessons learned from the Qualitative DMP Competition.pptx'},\n",
       " {'id': 'a7shw',\n",
       "  'name': 'Olson - .Beginning at the end with data management curricula.pptx',\n",
       "  'path': '/Presentation slides/Day 3 20211015/Olson - .Beginning at the end with data management curricula.pptx'},\n",
       " {'id': 'w368a',\n",
       "  'name': 'Johnson-Freeman - Forging Connections at the University of North Texas to Comply with Funder-Mandated Public Access to Research Data.pptx',\n",
       "  'path': '/Presentation slides/Day 3 20211015/Johnson-Freeman - Forging Connections at the University of North Texas to Comply with Funder-Mandated Public Access to Research Data.pptx'},\n",
       " {'id': 'tdsyv',\n",
       "  'name': 'Cragin - Data Stewardship Competency Centers Implementation Network.pptx',\n",
       "  'path': '/Presentation slides/Day 3 20211015/Cragin - Data Stewardship Competency Centers Implementation Network.pptx'},\n",
       " {'id': 'm7cek',\n",
       "  'name': 'Sye - Accidental DH Librarian Handout.docx',\n",
       "  'path': '/Presentation slides/Day 3 20211015/Sye - Accidental DH Librarian Handout.docx'},\n",
       " {'id': '8spmz',\n",
       "  'name': 'Exner Klein and Gypin - Data Management Planning with DMPTool.pdf',\n",
       "  'path': '/Workshop slides/Exner Klein and Gypin - Data Management Planning with DMPTool.pdf'},\n",
       " {'id': 'cv3rq',\n",
       "  'name': 'Alshrief et al - ArcGIS workshop.pptx',\n",
       "  'path': '/Workshop slides/Alshrief et al - ArcGIS workshop.pptx'},\n",
       " {'id': 'bfhps',\n",
       "  'name': 'Cheever and Berg - Python coding and data visualization with the Crossref API.pdf',\n",
       "  'path': '/Workshop slides/Cheever and Berg - Python coding and data visualization with the Crossref API.pdf'},\n",
       " {'id': '8mukt',\n",
       "  'name': 'Monson - Tips for Effective Data Visualization.pdf',\n",
       "  'path': '/Workshop slides/Monson - Tips for Effective Data Visualization.pdf'}]"
      ]
     },
     "execution_count": 163,
     "metadata": {},
     "output_type": "execute_result"
    }
   ],
   "source": [
    "sedls21_files"
   ]
  },
  {
   "cell_type": "code",
   "execution_count": null,
   "metadata": {},
   "outputs": [],
   "source": []
  }
 ],
 "metadata": {
  "interpreter": {
   "hash": "773aea64ebe980bc99e553529c1d015c2d5d34ff5c8ab05e1975c9141e15ff86"
  },
  "kernelspec": {
   "display_name": "Python 3.8.10 64-bit ('static-typing': conda)",
   "name": "python3"
  },
  "language_info": {
   "codemirror_mode": {
    "name": "ipython",
    "version": 3
   },
   "file_extension": ".py",
   "mimetype": "text/x-python",
   "name": "python",
   "nbconvert_exporter": "python",
   "pygments_lexer": "ipython3",
   "version": "3.8.10"
  },
  "orig_nbformat": 4
 },
 "nbformat": 4,
 "nbformat_minor": 2
}
